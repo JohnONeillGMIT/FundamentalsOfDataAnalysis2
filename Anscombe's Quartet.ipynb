{
 "cells": [
  {
   "cell_type": "markdown",
   "metadata": {},
   "source": [
    "# Anscombe's Quartet"
   ]
  },
  {
   "cell_type": "markdown",
   "metadata": {},
   "source": [
    "### To Do List\n",
    "The following assignment concerns the well-known Anscombe’s quartet dataset [2]. You\n",
    "are required to create a Jupyter [5] notebook analysing the dataset. There are four\n",
    "distinct tasks to be carried out in your Jupyter notebook.\n",
    "1. Explain the background to the dataset – who created it, when it was created, and\n",
    "any speculation you can find regarding how it might have been created.\n",
    "2. Plot the interesting aspects of the dataset.\n",
    "3. Calculate the descriptive statistics of the variables in the dataset.\n",
    "4. Explain why the dataset is interesting, referring to the plots and statistics above"
   ]
  },
  {
   "cell_type": "markdown",
   "metadata": {},
   "source": [
    "### 1. Explain the background to the dataset – who created it, when it was created, and any speculation you can find regarding how it might have been created."
   ]
  },
  {
   "cell_type": "markdown",
   "metadata": {
    "collapsed": true
   },
   "source": [
    "##### Basic background\n",
    "\n",
    "Francis John \"Frank\" Anscombe (13 May 1918 – 17 October 2001) was an English statistician [https://en.wikipedia.org/wiki/Francis_J._Anscombe]\n",
    "\n",
    "In 1973 Anscombe published and article which apparently was a reaction to the focus on using bare statistical numbers by sectors in the Educational sphere who apparently were under valuing the notion of looking behind the numbers... The essential take away from Ascombe is the need to look beyond the data. Data Visualisation is key. \n",
    "\n",
    "Francis J. Anscombe, Graphs in Statistical Analysis. The American Statistician, vol. 27, no. 1, pp. 17–21, 1973.[Link to article](http://www.sjsu.edu/faculty/gerstman/StatPrimer/anscombe1973.pdf)\n",
    "\n",
    "This is a view that is supported by John Tukey,(\"one of the most influential statisticians of the last 50 years\")  also a strong advocate of Data Visualistaion...\"In 1977, Mr. Tukey published ''Exploratory Data Analysis,'' which gave mathematicians new ways to analyze and present data clearly\" http://www-history.mcs.st-andrews.ac.uk/Obits2/Tukey_NYTimes.html. \n",
    "\n",
    "also contributed to statistical practice and articulated the important distinction between **exploratory data analysis** and **confirmatory data analysis**, believing that much statistical methodology placed too great an emphasis on the latter https://en.wikipedia.org/wiki/John_Tukey#Publications\n",
    "\n",
    "\n",
    "John Wilder Tukey (1977). “Exploratory Data Analysis”, Pearson College Division states \"The greatest value of a picture is when it forces us to notice what we never expected to see.\"\n",
    "\n",
    "EDA is seen as a means to explore the data using Visual aids as opposed to IDA which is seena s narrowly focused.\n",
    "\n",
    "###### Ansombes's Quartet is an important demonstration of the need to use Data Visualisation along wth the use of Statistical imforamtion when reviewing Data Sets. The Values , used aone do not tell the full story. \n",
    "\n",
    "\"Data Visualisations allows you to quickly interpret the data and adjust different variables to test their effect\"\n",
    "https://youtu.be/yZTBMMdPOww\n",
    "\n",
    "\"Visualization also provides the context necessary to make better choices and to be more careful when fitting models. Anscombe’s Quartet is a case in point, showing that four datasets that have identical statistical properties can indeed be very different\" https://rstudio-pubs-static.s3.amazonaws.com/52381_36ec82827e4b476fb968d9143aec7c4f.html\n",
    "\n",
    "\" ALWAYS plot your data! And always do model diagnostics by plotting the residuals http://localhost:8888/notebooks/FundamentalsOfDataAnalysis/FundamentalsOfDataAnalysis2/Anscombe's%20Quartet.ipynb\n",
    "\n",
    "\"Visualizing our data allows us to revisit our summary statistics and recontextualize them as needed. For example, Dataset II from Anscombe’s Quartet demonstrates a strong relationship between x and y, it just doesn’t appear to be linear. So a linear regression was the wrong tool to use there, and we can try other regressions. Eventually, we’ll be able to revise this into a model that does a great job of describing our data, and has a high degree of predictive power for future observations\" https://heapanalytics.com/blog/data-stories/anscombes-quartet-and-why-summary-statistics-dont-tell-the-whole-story"
   ]
  },
  {
   "cell_type": "markdown",
   "metadata": {},
   "source": [
    "### The Data Set"
   ]
  },
  {
   "cell_type": "markdown",
   "metadata": {},
   "source": [
    "Anscombe's quartet comprises four datasets that have nearly identical simple descriptive statistics, yet appear very different when graphed. Each dataset consists of eleven (x,y) points. The dataset is used widely when teaching the importance of graphing data before analyzing it. https://web.stanford.edu/class/cs102/datasets.htm\n",
    "\n",
    "The Data set consists of four Datasets, with 2 axes (X,Y), with 11 datapoints in each dataset.\n",
    "\n",
    "\"Anscombe's Quartet is a set of four datasets, where each produces the same summary statistics (mean, standard deviation, and correlation), which could lead one to believe the datasets are quite similar. However, after visualizing (plotting) the data, it becomes clear that the datasets are markedly different.\" https://www.autodeskresearch.com/publications/samestats"
   ]
  },
  {
   "cell_type": "code",
   "execution_count": 40,
   "metadata": {},
   "outputs": [],
   "source": [
    "# This code is going to import and display the 4 Datasets related to Anscombe\n",
    "# import pandas\n",
    "\n",
    "import pandas as pd\n",
    "import numpy as np\n",
    "import matplotlib.pyplot as plt\n",
    "\n",
    "#load the Anscombe dataset from site\n",
    "df= pd.read_csv(r\"C:\\Users\\john_j_o'neill\\Documents\\anscombe.csv\")\n",
    "\n",
    "#.. was getting an error in loading the csv file...\n",
    "#r in front of path fixes this (denotes a raw string)\n",
    "# https://stackoverflow.com/questions/37400974/unicode-error-unicodeescape-codec-cant-decode-bytes-in-position-2-3-trunca\n"
   ]
  },
  {
   "cell_type": "code",
   "execution_count": 21,
   "metadata": {},
   "outputs": [
    {
     "data": {
      "text/html": [
       "<div>\n",
       "<style>\n",
       "    .dataframe thead tr:only-child th {\n",
       "        text-align: right;\n",
       "    }\n",
       "\n",
       "    .dataframe thead th {\n",
       "        text-align: left;\n",
       "    }\n",
       "\n",
       "    .dataframe tbody tr th {\n",
       "        vertical-align: top;\n",
       "    }\n",
       "</style>\n",
       "<table border=\"1\" class=\"dataframe\">\n",
       "  <thead>\n",
       "    <tr style=\"text-align: right;\">\n",
       "      <th></th>\n",
       "      <th>x1</th>\n",
       "      <th>y1</th>\n",
       "      <th>x2</th>\n",
       "      <th>y2</th>\n",
       "      <th>x3</th>\n",
       "      <th>y3</th>\n",
       "      <th>x4</th>\n",
       "      <th>y4</th>\n",
       "    </tr>\n",
       "  </thead>\n",
       "  <tbody>\n",
       "    <tr>\n",
       "      <th>0</th>\n",
       "      <td>10</td>\n",
       "      <td>8.04</td>\n",
       "      <td>10</td>\n",
       "      <td>9.14</td>\n",
       "      <td>10</td>\n",
       "      <td>7.46</td>\n",
       "      <td>8</td>\n",
       "      <td>6.58</td>\n",
       "    </tr>\n",
       "    <tr>\n",
       "      <th>1</th>\n",
       "      <td>8</td>\n",
       "      <td>6.95</td>\n",
       "      <td>8</td>\n",
       "      <td>8.14</td>\n",
       "      <td>8</td>\n",
       "      <td>6.77</td>\n",
       "      <td>8</td>\n",
       "      <td>5.76</td>\n",
       "    </tr>\n",
       "    <tr>\n",
       "      <th>2</th>\n",
       "      <td>13</td>\n",
       "      <td>7.58</td>\n",
       "      <td>13</td>\n",
       "      <td>8.74</td>\n",
       "      <td>13</td>\n",
       "      <td>12.74</td>\n",
       "      <td>8</td>\n",
       "      <td>7.71</td>\n",
       "    </tr>\n",
       "    <tr>\n",
       "      <th>3</th>\n",
       "      <td>9</td>\n",
       "      <td>8.81</td>\n",
       "      <td>9</td>\n",
       "      <td>8.77</td>\n",
       "      <td>9</td>\n",
       "      <td>7.11</td>\n",
       "      <td>8</td>\n",
       "      <td>8.84</td>\n",
       "    </tr>\n",
       "    <tr>\n",
       "      <th>4</th>\n",
       "      <td>11</td>\n",
       "      <td>8.33</td>\n",
       "      <td>11</td>\n",
       "      <td>9.26</td>\n",
       "      <td>11</td>\n",
       "      <td>7.81</td>\n",
       "      <td>8</td>\n",
       "      <td>8.47</td>\n",
       "    </tr>\n",
       "    <tr>\n",
       "      <th>5</th>\n",
       "      <td>14</td>\n",
       "      <td>9.96</td>\n",
       "      <td>14</td>\n",
       "      <td>8.10</td>\n",
       "      <td>14</td>\n",
       "      <td>8.84</td>\n",
       "      <td>8</td>\n",
       "      <td>7.04</td>\n",
       "    </tr>\n",
       "    <tr>\n",
       "      <th>6</th>\n",
       "      <td>6</td>\n",
       "      <td>7.24</td>\n",
       "      <td>6</td>\n",
       "      <td>6.13</td>\n",
       "      <td>6</td>\n",
       "      <td>6.08</td>\n",
       "      <td>8</td>\n",
       "      <td>5.25</td>\n",
       "    </tr>\n",
       "    <tr>\n",
       "      <th>7</th>\n",
       "      <td>4</td>\n",
       "      <td>4.26</td>\n",
       "      <td>4</td>\n",
       "      <td>3.10</td>\n",
       "      <td>4</td>\n",
       "      <td>5.39</td>\n",
       "      <td>19</td>\n",
       "      <td>12.50</td>\n",
       "    </tr>\n",
       "    <tr>\n",
       "      <th>8</th>\n",
       "      <td>12</td>\n",
       "      <td>10.84</td>\n",
       "      <td>12</td>\n",
       "      <td>9.13</td>\n",
       "      <td>12</td>\n",
       "      <td>8.15</td>\n",
       "      <td>8</td>\n",
       "      <td>5.56</td>\n",
       "    </tr>\n",
       "    <tr>\n",
       "      <th>9</th>\n",
       "      <td>7</td>\n",
       "      <td>4.82</td>\n",
       "      <td>7</td>\n",
       "      <td>7.26</td>\n",
       "      <td>7</td>\n",
       "      <td>6.42</td>\n",
       "      <td>8</td>\n",
       "      <td>7.91</td>\n",
       "    </tr>\n",
       "    <tr>\n",
       "      <th>10</th>\n",
       "      <td>5</td>\n",
       "      <td>5.68</td>\n",
       "      <td>5</td>\n",
       "      <td>4.74</td>\n",
       "      <td>5</td>\n",
       "      <td>5.73</td>\n",
       "      <td>8</td>\n",
       "      <td>6.89</td>\n",
       "    </tr>\n",
       "  </tbody>\n",
       "</table>\n",
       "</div>"
      ],
      "text/plain": [
       "    x1     y1  x2    y2  x3     y3  x4     y4\n",
       "0   10   8.04  10  9.14  10   7.46   8   6.58\n",
       "1    8   6.95   8  8.14   8   6.77   8   5.76\n",
       "2   13   7.58  13  8.74  13  12.74   8   7.71\n",
       "3    9   8.81   9  8.77   9   7.11   8   8.84\n",
       "4   11   8.33  11  9.26  11   7.81   8   8.47\n",
       "5   14   9.96  14  8.10  14   8.84   8   7.04\n",
       "6    6   7.24   6  6.13   6   6.08   8   5.25\n",
       "7    4   4.26   4  3.10   4   5.39  19  12.50\n",
       "8   12  10.84  12  9.13  12   8.15   8   5.56\n",
       "9    7   4.82   7  7.26   7   6.42   8   7.91\n",
       "10   5   5.68   5  4.74   5   5.73   8   6.89"
      ]
     },
     "execution_count": 21,
     "metadata": {},
     "output_type": "execute_result"
    }
   ],
   "source": [
    "df"
   ]
  },
  {
   "cell_type": "code",
   "execution_count": 22,
   "metadata": {},
   "outputs": [
    {
     "data": {
      "text/html": [
       "<div>\n",
       "<style>\n",
       "    .dataframe thead tr:only-child th {\n",
       "        text-align: right;\n",
       "    }\n",
       "\n",
       "    .dataframe thead th {\n",
       "        text-align: left;\n",
       "    }\n",
       "\n",
       "    .dataframe tbody tr th {\n",
       "        vertical-align: top;\n",
       "    }\n",
       "</style>\n",
       "<table border=\"1\" class=\"dataframe\">\n",
       "  <thead>\n",
       "    <tr style=\"text-align: right;\">\n",
       "      <th></th>\n",
       "      <th>x1</th>\n",
       "      <th>y1</th>\n",
       "      <th>x2</th>\n",
       "      <th>y2</th>\n",
       "      <th>x3</th>\n",
       "      <th>y3</th>\n",
       "      <th>x4</th>\n",
       "      <th>y4</th>\n",
       "    </tr>\n",
       "  </thead>\n",
       "  <tbody>\n",
       "    <tr>\n",
       "      <th>x1</th>\n",
       "      <td>1.000000</td>\n",
       "      <td>0.816421</td>\n",
       "      <td>1.000000</td>\n",
       "      <td>0.816237</td>\n",
       "      <td>1.000000</td>\n",
       "      <td>0.816287</td>\n",
       "      <td>-0.500000</td>\n",
       "      <td>-0.314047</td>\n",
       "    </tr>\n",
       "    <tr>\n",
       "      <th>y1</th>\n",
       "      <td>0.816421</td>\n",
       "      <td>1.000000</td>\n",
       "      <td>0.816421</td>\n",
       "      <td>0.750005</td>\n",
       "      <td>0.816421</td>\n",
       "      <td>0.468717</td>\n",
       "      <td>-0.529093</td>\n",
       "      <td>-0.489116</td>\n",
       "    </tr>\n",
       "    <tr>\n",
       "      <th>x2</th>\n",
       "      <td>1.000000</td>\n",
       "      <td>0.816421</td>\n",
       "      <td>1.000000</td>\n",
       "      <td>0.816237</td>\n",
       "      <td>1.000000</td>\n",
       "      <td>0.816287</td>\n",
       "      <td>-0.500000</td>\n",
       "      <td>-0.314047</td>\n",
       "    </tr>\n",
       "    <tr>\n",
       "      <th>y2</th>\n",
       "      <td>0.816237</td>\n",
       "      <td>0.750005</td>\n",
       "      <td>0.816237</td>\n",
       "      <td>1.000000</td>\n",
       "      <td>0.816237</td>\n",
       "      <td>0.587919</td>\n",
       "      <td>-0.718437</td>\n",
       "      <td>-0.478095</td>\n",
       "    </tr>\n",
       "    <tr>\n",
       "      <th>x3</th>\n",
       "      <td>1.000000</td>\n",
       "      <td>0.816421</td>\n",
       "      <td>1.000000</td>\n",
       "      <td>0.816237</td>\n",
       "      <td>1.000000</td>\n",
       "      <td>0.816287</td>\n",
       "      <td>-0.500000</td>\n",
       "      <td>-0.314047</td>\n",
       "    </tr>\n",
       "    <tr>\n",
       "      <th>y3</th>\n",
       "      <td>0.816287</td>\n",
       "      <td>0.468717</td>\n",
       "      <td>0.816287</td>\n",
       "      <td>0.587919</td>\n",
       "      <td>0.816287</td>\n",
       "      <td>1.000000</td>\n",
       "      <td>-0.344661</td>\n",
       "      <td>-0.155472</td>\n",
       "    </tr>\n",
       "    <tr>\n",
       "      <th>x4</th>\n",
       "      <td>-0.500000</td>\n",
       "      <td>-0.529093</td>\n",
       "      <td>-0.500000</td>\n",
       "      <td>-0.718437</td>\n",
       "      <td>-0.500000</td>\n",
       "      <td>-0.344661</td>\n",
       "      <td>1.000000</td>\n",
       "      <td>0.816521</td>\n",
       "    </tr>\n",
       "    <tr>\n",
       "      <th>y4</th>\n",
       "      <td>-0.314047</td>\n",
       "      <td>-0.489116</td>\n",
       "      <td>-0.314047</td>\n",
       "      <td>-0.478095</td>\n",
       "      <td>-0.314047</td>\n",
       "      <td>-0.155472</td>\n",
       "      <td>0.816521</td>\n",
       "      <td>1.000000</td>\n",
       "    </tr>\n",
       "  </tbody>\n",
       "</table>\n",
       "</div>"
      ],
      "text/plain": [
       "          x1        y1        x2        y2        x3        y3        x4  \\\n",
       "x1  1.000000  0.816421  1.000000  0.816237  1.000000  0.816287 -0.500000   \n",
       "y1  0.816421  1.000000  0.816421  0.750005  0.816421  0.468717 -0.529093   \n",
       "x2  1.000000  0.816421  1.000000  0.816237  1.000000  0.816287 -0.500000   \n",
       "y2  0.816237  0.750005  0.816237  1.000000  0.816237  0.587919 -0.718437   \n",
       "x3  1.000000  0.816421  1.000000  0.816237  1.000000  0.816287 -0.500000   \n",
       "y3  0.816287  0.468717  0.816287  0.587919  0.816287  1.000000 -0.344661   \n",
       "x4 -0.500000 -0.529093 -0.500000 -0.718437 -0.500000 -0.344661  1.000000   \n",
       "y4 -0.314047 -0.489116 -0.314047 -0.478095 -0.314047 -0.155472  0.816521   \n",
       "\n",
       "          y4  \n",
       "x1 -0.314047  \n",
       "y1 -0.489116  \n",
       "x2 -0.314047  \n",
       "y2 -0.478095  \n",
       "x3 -0.314047  \n",
       "y3 -0.155472  \n",
       "x4  0.816521  \n",
       "y4  1.000000  "
      ]
     },
     "execution_count": 22,
     "metadata": {},
     "output_type": "execute_result"
    }
   ],
   "source": [
    "df.corr()"
   ]
  },
  {
   "cell_type": "markdown",
   "metadata": {},
   "source": [
    "#### Characteristics of the Data\n",
    "\n",
    "4 Sets of Data with 2 axes (X,Y)\n",
    "11 line items in each dataset"
   ]
  },
  {
   "cell_type": "code",
   "execution_count": 23,
   "metadata": {},
   "outputs": [
    {
     "data": {
      "text/html": [
       "<div>\n",
       "<style>\n",
       "    .dataframe thead tr:only-child th {\n",
       "        text-align: right;\n",
       "    }\n",
       "\n",
       "    .dataframe thead th {\n",
       "        text-align: left;\n",
       "    }\n",
       "\n",
       "    .dataframe tbody tr th {\n",
       "        vertical-align: top;\n",
       "    }\n",
       "</style>\n",
       "<table border=\"1\" class=\"dataframe\">\n",
       "  <thead>\n",
       "    <tr style=\"text-align: right;\">\n",
       "      <th></th>\n",
       "      <th>x1</th>\n",
       "      <th>y1</th>\n",
       "      <th>x2</th>\n",
       "      <th>y2</th>\n",
       "      <th>x3</th>\n",
       "      <th>y3</th>\n",
       "      <th>x4</th>\n",
       "      <th>y4</th>\n",
       "    </tr>\n",
       "  </thead>\n",
       "  <tbody>\n",
       "    <tr>\n",
       "      <th>count</th>\n",
       "      <td>11.000000</td>\n",
       "      <td>11.000000</td>\n",
       "      <td>11.000000</td>\n",
       "      <td>11.000000</td>\n",
       "      <td>11.000000</td>\n",
       "      <td>11.000000</td>\n",
       "      <td>11.000000</td>\n",
       "      <td>11.000000</td>\n",
       "    </tr>\n",
       "    <tr>\n",
       "      <th>mean</th>\n",
       "      <td>9.000000</td>\n",
       "      <td>7.500909</td>\n",
       "      <td>9.000000</td>\n",
       "      <td>7.500909</td>\n",
       "      <td>9.000000</td>\n",
       "      <td>7.500000</td>\n",
       "      <td>9.000000</td>\n",
       "      <td>7.500909</td>\n",
       "    </tr>\n",
       "    <tr>\n",
       "      <th>std</th>\n",
       "      <td>3.316625</td>\n",
       "      <td>2.031568</td>\n",
       "      <td>3.316625</td>\n",
       "      <td>2.031657</td>\n",
       "      <td>3.316625</td>\n",
       "      <td>2.030424</td>\n",
       "      <td>3.316625</td>\n",
       "      <td>2.030579</td>\n",
       "    </tr>\n",
       "    <tr>\n",
       "      <th>min</th>\n",
       "      <td>4.000000</td>\n",
       "      <td>4.260000</td>\n",
       "      <td>4.000000</td>\n",
       "      <td>3.100000</td>\n",
       "      <td>4.000000</td>\n",
       "      <td>5.390000</td>\n",
       "      <td>8.000000</td>\n",
       "      <td>5.250000</td>\n",
       "    </tr>\n",
       "    <tr>\n",
       "      <th>25%</th>\n",
       "      <td>6.500000</td>\n",
       "      <td>6.315000</td>\n",
       "      <td>6.500000</td>\n",
       "      <td>6.695000</td>\n",
       "      <td>6.500000</td>\n",
       "      <td>6.250000</td>\n",
       "      <td>8.000000</td>\n",
       "      <td>6.170000</td>\n",
       "    </tr>\n",
       "    <tr>\n",
       "      <th>50%</th>\n",
       "      <td>9.000000</td>\n",
       "      <td>7.580000</td>\n",
       "      <td>9.000000</td>\n",
       "      <td>8.140000</td>\n",
       "      <td>9.000000</td>\n",
       "      <td>7.110000</td>\n",
       "      <td>8.000000</td>\n",
       "      <td>7.040000</td>\n",
       "    </tr>\n",
       "    <tr>\n",
       "      <th>75%</th>\n",
       "      <td>11.500000</td>\n",
       "      <td>8.570000</td>\n",
       "      <td>11.500000</td>\n",
       "      <td>8.950000</td>\n",
       "      <td>11.500000</td>\n",
       "      <td>7.980000</td>\n",
       "      <td>8.000000</td>\n",
       "      <td>8.190000</td>\n",
       "    </tr>\n",
       "    <tr>\n",
       "      <th>max</th>\n",
       "      <td>14.000000</td>\n",
       "      <td>10.840000</td>\n",
       "      <td>14.000000</td>\n",
       "      <td>9.260000</td>\n",
       "      <td>14.000000</td>\n",
       "      <td>12.740000</td>\n",
       "      <td>19.000000</td>\n",
       "      <td>12.500000</td>\n",
       "    </tr>\n",
       "  </tbody>\n",
       "</table>\n",
       "</div>"
      ],
      "text/plain": [
       "              x1         y1         x2         y2         x3         y3  \\\n",
       "count  11.000000  11.000000  11.000000  11.000000  11.000000  11.000000   \n",
       "mean    9.000000   7.500909   9.000000   7.500909   9.000000   7.500000   \n",
       "std     3.316625   2.031568   3.316625   2.031657   3.316625   2.030424   \n",
       "min     4.000000   4.260000   4.000000   3.100000   4.000000   5.390000   \n",
       "25%     6.500000   6.315000   6.500000   6.695000   6.500000   6.250000   \n",
       "50%     9.000000   7.580000   9.000000   8.140000   9.000000   7.110000   \n",
       "75%    11.500000   8.570000  11.500000   8.950000  11.500000   7.980000   \n",
       "max    14.000000  10.840000  14.000000   9.260000  14.000000  12.740000   \n",
       "\n",
       "              x4         y4  \n",
       "count  11.000000  11.000000  \n",
       "mean    9.000000   7.500909  \n",
       "std     3.316625   2.030579  \n",
       "min     8.000000   5.250000  \n",
       "25%     8.000000   6.170000  \n",
       "50%     8.000000   7.040000  \n",
       "75%     8.000000   8.190000  \n",
       "max    19.000000  12.500000  "
      ]
     },
     "execution_count": 23,
     "metadata": {},
     "output_type": "execute_result"
    }
   ],
   "source": [
    "df.describe() # Key features of the Data Set"
   ]
  },
  {
   "attachments": {
    "image.png": {
     "image/png": "[encoded data removed]"
    }
   },
   "cell_type": "markdown",
   "metadata": {},
   "source": [
    "![image.png](attachment:image.png)"
   ]
  },
  {
   "cell_type": "markdown",
   "metadata": {},
   "source": [
    "#### Regression Analysis"
   ]
  },
  {
   "cell_type": "markdown",
   "metadata": {},
   "source": [
    "## Plotting the Data"
   ]
  },
  {
   "cell_type": "code",
   "execution_count": 25,
   "metadata": {
    "collapsed": true
   },
   "outputs": [],
   "source": [
    "#plotting Anscombe's Datasets\n",
    "import matplotlib.pyplot as plt\n",
    "from scipy.stats import linregress"
   ]
  },
  {
   "cell_type": "code",
   "execution_count": 26,
   "metadata": {
    "collapsed": true
   },
   "outputs": [],
   "source": [
    "%matplotlib inline \n",
    "#adding magic command"
   ]
  },
  {
   "cell_type": "code",
   "execution_count": 51,
   "metadata": {},
   "outputs": [
    {
     "data": {
      "image/png": "[encoded data removed]",
      "text/plain": [
       "<matplotlib.figure.Figure at 0x2613fc55588>"
      ]
     },
     "metadata": {},
     "output_type": "display_data"
    },
    {
     "data": {
      "image/png": "[encoded data removed]",
      "text/plain": [
       "<matplotlib.figure.Figure at 0x2613fba3cf8>"
      ]
     },
     "metadata": {},
     "output_type": "display_data"
    },
    {
     "data": {
      "image/png": "[encoded data removed]",
      "text/plain": [
       "<matplotlib.figure.Figure at 0x2613fac2668>"
      ]
     },
     "metadata": {},
     "output_type": "display_data"
    },
    {
     "data": {
      "image/png": "[encoded data removed]",
      "text/plain": [
       "<matplotlib.figure.Figure at 0x2613fa12828>"
      ]
     },
     "metadata": {},
     "output_type": "display_data"
    }
   ],
   "source": [
    "#plot the data\n",
    "\n",
    "df.plot(kind='scatter',x='x1',y='y1',color='red',title='Dataset 1') #plotting Dataset 1 (x1,y1)\n",
    "a=np.arange(0.0,100.0,1.0)\n",
    "plt.plot(x,0.5 *x +3, 'b-',label=r'5x+10') # Anscombes Regression line\n",
    "df.plot(kind='scatter',x='x2',y='y2',color='red',title='Dataset 2')#plotting (x2,y2)\n",
    "plt.plot(x,0.5 *x +3, 'b-',label=r'5x+10')\n",
    "df.plot(kind='scatter',x='x3',y='y3',color='red',title='Dataset 3')#plotting (x3,y3)\n",
    "plt.plot(x,0.5 *x +3, 'b-',label=r'5x+10')\n",
    "df.plot(kind='scatter',x='x4',y='y4',color='red',title='Dataset 4')#plotting (x4,y4)\n",
    "plt.plot(x,0.5 *x +3, 'b-',label=r'5x+10')\n",
    "plt.show()#shows the plot\n"
   ]
  },
  {
   "cell_type": "markdown",
   "metadata": {},
   "source": [
    "### Regression Analysis - Line of best Fit\n",
    "\n",
    "Given that the a straight line is expressed as y= mx + c; m is the slope of the line and c= y intercept of the line (where x=0). The equation for the Regression that \"fits\" all 4 datasets used by Anscombe = y= 3+ 0.5x.... Slope(m) = 0.5, y= 3.\n",
    "\n",
    "#### Take Dataset 1 as a sample to Calculate the Cost\n",
    "\n",
    "\n"
   ]
  },
  {
   "cell_type": "markdown",
   "metadata": {},
   "source": [
    "The Regression aim of findingthe line of best fit is not served well be using data alone. while the line applied to Dataset1 above ia closely aligned to the data points, it is clear the the other three lines do not sit well as a model to represent the Datasets.\n",
    "\n",
    "Dataset 2 is non linear\n",
    "Dataset 3 is shewed by the Outlier - this would need to be investivated or omitted\n",
    "Dataset 4 again does not fit the model and is impacted heavily by the outlying datapoint.\n",
    "\n",
    "Study the residuals......\n"
   ]
  },
  {
   "cell_type": "markdown",
   "metadata": {
    "collapsed": true
   },
   "source": [
    "####  F. J. Anscombe, \"Graphs in Statistical Analysis,\" The American Statistician 27(1), 1973 pp. 17–21.\n",
    "\n",
    "These graphs show the crucial role that data visualization plays in developing a sensible statistical model  https://demonstrations.wolfram.com/AnscombeQuartet/\n",
    "\n",
    "His key message is that for Statistical methods, \"graphs are essential to good statistical analysis.\" and that one should \"make bothe calculations and graphs. Both sorts of output should be studied; each will contribute to understanding.\"\n",
    "\n",
    "Graphs allow greater insight to the features of the data and help focus analysis.\n",
    "\n",
    "\"The effectiveness of Anscombe's Quartet is not due to simply having four different datasets which generate the same statistical properties, it is that four clearly different and visually distinct datasets are producing the same statistical properties\" https://www.autodeskresearch.com/publications/samestats.. Reference... \"Same Stats, Different Graphs: Generating Datasets with Varied Appearance and Identical Statistics through Simulated Annealing\n",
    "ACM SIGCHI Conference on Human Factors in Computing Systems\" AUTHORS Justin Matejka, George Fitzmaurice\n",
    "\n",
    "\n"
   ]
  },
  {
   "cell_type": "markdown",
   "metadata": {
    "collapsed": true
   },
   "source": [
    "## Do not rely on statistical data alone.. Plot the data!"
   ]
  },
  {
   "cell_type": "markdown",
   "metadata": {},
   "source": [
    "While dataset I appears like many well-behaved datasets that have clean and well-fitting linear models, the others are not served nearly as well. Dataset II does not have a linear correlation; dataset III does, but the linear regression is thrown off by an outlier. It would be easy to fit a correct linear model, if only the outlier were spotted and removed before doing so. Dataset IV, finally, does not fit any kind of linear model, but the single outlier makes keeps the alarm from going off.\n",
    "How do you find out which model can be applied? Anscombe’s answer is to use graphs  https://rstudio-pubs-static.s3.amazonaws.com/52381_36ec82827e4b476fb968d9143aec7c4f.html"
   ]
  },
  {
   "cell_type": "code",
   "execution_count": null,
   "metadata": {
    "collapsed": true
   },
   "outputs": [],
   "source": []
  }
 ],
 "metadata": {
  "kernelspec": {
   "display_name": "Python 3",
   "language": "python",
   "name": "python3"
  },
  "language_info": {
   "codemirror_mode": {
    "name": "ipython",
    "version": 3
   },
   "file_extension": ".py",
   "mimetype": "text/x-python",
   "name": "python",
   "nbconvert_exporter": "python",
   "pygments_lexer": "ipython3",
   "version": "3.6.3"
  }
 },
 "nbformat": 4,
 "nbformat_minor": 2
}
